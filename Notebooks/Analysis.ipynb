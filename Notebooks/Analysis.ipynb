{
 "cells": [
  {
   "cell_type": "code",
   "execution_count": 2,
   "metadata": {},
   "outputs": [],
   "source": [
    "import numpy as np\n",
    "import nltk\n",
    "import pandas as pd"
   ]
  },
  {
   "cell_type": "code",
   "execution_count": null,
   "metadata": {},
   "outputs": [],
   "source": [
    "!unzip Craighead.zip"
   ]
  },
  {
   "cell_type": "code",
   "execution_count": 3,
   "metadata": {},
   "outputs": [],
   "source": [
    "import os\n",
    "names = []\n",
    "texts = []\n",
    "for filename in os.listdir('../Craighead'):\n",
    "         name, file_extension = os.path.splitext(filename)\n",
    "         if '.txt' in file_extension:\n",
    "                hand = open('../Craighead/' + filename,encoding = 'cp1252')\n",
    "                for line in hand:\n",
    "                    names.append(name)\n",
    "                    texts.append(line)\n",
    "                    "
   ]
  },
  {
   "cell_type": "code",
   "execution_count": 4,
   "metadata": {},
   "outputs": [
    {
     "name": "stderr",
     "output_type": "stream",
     "text": [
      "[nltk_data] Downloading package wordnet to\n",
      "[nltk_data]     C:\\Users\\kglin\\AppData\\Roaming\\nltk_data...\n",
      "[nltk_data]   Package wordnet is already up-to-date!\n",
      "[nltk_data] Downloading package punkt to\n",
      "[nltk_data]     C:\\Users\\kglin\\AppData\\Roaming\\nltk_data...\n",
      "[nltk_data]   Package punkt is already up-to-date!\n",
      "[nltk_data] Downloading package stopwords to\n",
      "[nltk_data]     C:\\Users\\kglin\\AppData\\Roaming\\nltk_data...\n",
      "[nltk_data]   Package stopwords is already up-to-date!\n"
     ]
    }
   ],
   "source": [
    "from nltk.stem import WordNetLemmatizer\n",
    "nltk.download('wordnet')\n",
    "nltk.download('punkt')\n",
    "nltk.download('stopwords')\n",
    "\n",
    "lemmatizer = WordNetLemmatizer()"
   ]
  },
  {
   "cell_type": "code",
   "execution_count": 5,
   "metadata": {},
   "outputs": [],
   "source": [
    "import string\n",
    "import re\n",
    "\n",
    "from nltk.tokenize import TweetTokenizer\n",
    "tokenizer = TweetTokenizer()\n",
    "\n",
    "preprocess = lambda text: ' '.join(tokenizer.tokenize(text.lower()))\n",
    "\n",
    "def text_preprocessor(text):\n",
    "    clean_data=[]\n",
    "    for x in text[:]:\n",
    "        new_text = preprocess(x)\n",
    "        new_text = new_text.translate(str.maketrans(\"\",\"\", string.punctuation+'’'+'”'+'“'))\n",
    "        new_text = re.sub(r'\\d+', '', new_text)\n",
    "        clean_data.append(new_text)\n",
    "        \n",
    "    return np.asarray(clean_data)\n",
    "preprocessed = text_preprocessor(texts)"
   ]
  },
  {
   "cell_type": "code",
   "execution_count": 6,
   "metadata": {},
   "outputs": [
    {
     "data": {
      "text/plain": [
       "'!\"#$%&\\'()*+,-./:;<=>?@[\\\\]^_`{|}~'"
      ]
     },
     "execution_count": 6,
     "metadata": {},
     "output_type": "execute_result"
    }
   ],
   "source": [
    "string.punctuation"
   ]
  },
  {
   "cell_type": "code",
   "execution_count": 7,
   "metadata": {},
   "outputs": [],
   "source": [
    "tokenized = []\n",
    "for text in preprocessed:\n",
    "    tokenized.append(nltk.word_tokenize(text))"
   ]
  },
  {
   "cell_type": "code",
   "execution_count": 8,
   "metadata": {},
   "outputs": [],
   "source": [
    "from nltk.corpus import stopwords\n",
    "\n",
    "stopped = []\n",
    "\n",
    "for text in tokenized:\n",
    "    stopped.append(list(filter(lambda token: token not in stopwords.words(\"english\"),text)))"
   ]
  },
  {
   "cell_type": "code",
   "execution_count": 9,
   "metadata": {},
   "outputs": [],
   "source": [
    "stemmed = []\n",
    "for text in stopped:\n",
    "    stemmed.append([lemmatizer.lemmatize(word) for word in text])"
   ]
  },
  {
   "cell_type": "code",
   "execution_count": 40,
   "metadata": {
    "scrolled": true
   },
   "outputs": [],
   "source": [
    "# task: find up to k most frequent tokens in texts_train,\n",
    "# sort them by number of occurences (highest first)\n",
    "k = min(30000, len(set(' '.join([item for sublist in stemmed for item in sublist]).split())))\n",
    "def merge(text):\n",
    "  return ' '.join([item for sublist in text for item in sublist])\n",
    "\n",
    "from collections import Counter\n",
    "corpus = merge(stemmed)\n",
    "split_it = corpus.split() \n",
    "Counter = Counter(split_it) \n",
    "n_counts = 10\n",
    "\n",
    "bow_vocabulary = np.asarray(Counter.most_common(k))[:,0]\n",
    "freqs = [i[1] for i in Counter.most_common(k)]\n",
    "n_vocab = np.searchsorted(freqs[::-1],n_counts)\n",
    "most_occur = np.asarray(Counter.most_common(k))[:(k-n_vocab),0] \n"
   ]
  },
  {
   "cell_type": "code",
   "execution_count": 41,
   "metadata": {},
   "outputs": [],
   "source": [
    "def text_to_bow(text):\n",
    "    \"\"\" convert text string to an array of token counts. Use bow_vocabulary. \"\"\"\n",
    "    sentence_vectors = []\n",
    "    sentence_tokens = text\n",
    "    sequence_vector = np.zeros(most_occur.shape[0])\n",
    "    for w in sentence_tokens:\n",
    "        for i,word in enumerate(most_occur):\n",
    "            if word == w:\n",
    "                sequence_vector[i] += 1\n",
    "    \n",
    "    return np.array(sequence_vector,dtype='float16') #quantized precision high performance gpu-enabled bow features\n",
    "        \n",
    "        "
   ]
  },
  {
   "cell_type": "code",
   "execution_count": 42,
   "metadata": {},
   "outputs": [
    {
     "name": "stderr",
     "output_type": "stream",
     "text": [
      "100%|████████████████████████████████████████████████████████████████████████████████| 364/364 [04:27<00:00,  1.22it/s]\n"
     ]
    }
   ],
   "source": [
    "import tqdm\n",
    "stemmed = tqdm.tqdm(stemmed)\n",
    "bow_stemmed = np.stack(list(map(text_to_bow, stemmed)))\n"
   ]
  },
  {
   "cell_type": "code",
   "execution_count": 43,
   "metadata": {},
   "outputs": [
    {
     "data": {
      "text/plain": [
       "0.1239"
      ]
     },
     "execution_count": 43,
     "metadata": {},
     "output_type": "execute_result"
    }
   ],
   "source": [
    "np.max(bow_norm)"
   ]
  },
  {
   "cell_type": "code",
   "execution_count": 44,
   "metadata": {},
   "outputs": [],
   "source": [
    "bow_norm = bow_stemmed.T/np.sum(bow_stemmed,axis=-1)"
   ]
  },
  {
   "cell_type": "code",
   "execution_count": 16,
   "metadata": {},
   "outputs": [],
   "source": [
    "cooccurrence_matrix = np.dot(bow_norm,bow_norm.T)"
   ]
  },
  {
   "cell_type": "code",
   "execution_count": 32,
   "metadata": {},
   "outputs": [
    {
     "data": {
      "text/plain": [
       "PCA(copy=True, iterated_power='auto', n_components=10, random_state=None,\n",
       "    svd_solver='auto', tol=0.0, whiten=False)"
      ]
     },
     "execution_count": 32,
     "metadata": {},
     "output_type": "execute_result"
    }
   ],
   "source": [
    "from sklearn.decomposition import PCA\n",
    "from sklearn.decomposition import FactorAnalysis\n",
    "pca = PCA(n_components=10)\n",
    "EFA = FactorAnalysis(n_components=10, random_state=42).fit(cooccurrence_matrix)\n",
    "fact = EFA.transform(cooccurrence_matrix)\n",
    "pca.fit(cooccurrence_matrix)"
   ]
  },
  {
   "cell_type": "code",
   "execution_count": 33,
   "metadata": {},
   "outputs": [
    {
     "data": {
      "text/plain": [
       "(3567, 10)"
      ]
     },
     "execution_count": 33,
     "metadata": {},
     "output_type": "execute_result"
    }
   ],
   "source": [
    "fact.shape"
   ]
  },
  {
   "cell_type": "code",
   "execution_count": 58,
   "metadata": {},
   "outputs": [],
   "source": [
    "vect = pca.components_"
   ]
  },
  {
   "cell_type": "code",
   "execution_count": 59,
   "metadata": {},
   "outputs": [],
   "source": [
    "compressed = np.dot(cooccurrence_matrix,vect.T)"
   ]
  },
  {
   "cell_type": "code",
   "execution_count": 34,
   "metadata": {},
   "outputs": [],
   "source": [
    "compressed = fact"
   ]
  },
  {
   "cell_type": "code",
   "execution_count": 38,
   "metadata": {},
   "outputs": [
    {
     "data": {
      "text/plain": [
       "array([6.51231526e-04, 6.19644356e-04, 5.39681926e-04, ...,\n",
       "       6.81476430e-06, 6.75409021e-06, 4.70437220e-06])"
      ]
     },
     "execution_count": 38,
     "metadata": {},
     "output_type": "execute_result"
    }
   ],
   "source": [
    "EFA.mean_"
   ]
  },
  {
   "cell_type": "code",
   "execution_count": 36,
   "metadata": {},
   "outputs": [
    {
     "name": "stdout",
     "output_type": "stream",
     "text": [
      "['eif', 'subunit', 'initiation', 'complex', 'ribosome', 'al', 'et', 'factor', 'mrna', 'trna', 'protein', 'may', 'e', 'ribosomal', 'site']\n",
      "----\n",
      "\n",
      "['behavior', 'may', 'also', 'one', 'individual', 'study', 'child', 'research', 'disorder', 'social', 'patient', 'test', 'psychology', 'experience', 'theory']\n",
      "----\n",
      "\n",
      "['brain', 'neuron', 'cell', 'system', 'memory', 'receptor', 'cortex', 'function', 'region', 'stimulus', 'sleep', 'cortical', 'motor', 'also', 'disease']\n",
      "----\n",
      "\n",
      "['disorder', 'sexual', 'treatment', 'patient', 'depression', 'child', 'symptom', 'al', 'et', 'age', 'therapy', 'sleep', 'family', 'rate', 'male']\n",
      "----\n",
      "\n",
      "['test', 'item', 'disorder', 'score', 'scale', 'e', 'validity', 'patient', 'procedure', 'treatment', 'clinical', 'g', 'interview', 'used', 'assessment']\n",
      "----\n",
      "\n",
      "['psychology', 'psychologist', 'brain', 'system', 'research', 'psychological', 'program', 'area', 'service', 'training', 'international', 'law', 'professional', 'development', 'field']\n",
      "----\n",
      "\n",
      "['sexual', 'male', 'female', 'woman', 'intercourse', 'sex', 'psychology', 'men', 'desire', 'term', 'partner', 'technique', 'human', 'masturbation', 'sexuality']\n",
      "----\n",
      "\n",
      "['behavior', 'treatment', 'psychology', 'stimulus', 'animal', 'disorder', 'patient', 'conditioning', 'response', 'learning', 'psychotherapy', 'behavioral', 'research', 'psychologist', 'c']\n",
      "----\n",
      "\n",
      "['child', 'behavior', 'test', 'parent', 'response', 'family', 'neuron', 'training', 'stimulus', 'c', 'cell', 'year', 'animal', 'conditioning', 'inhibitory']\n",
      "----\n",
      "\n",
      "['memory', 'child', 'task', 'learning', 'sexual', 'study', 'word', 'e', 'parent', 'psychology', 'damage', 'aphasia', 'ability', 'processing', 'priming']\n",
      "----\n",
      "\n"
     ]
    }
   ],
   "source": [
    "for n_factors in range(10):\n",
    "     print([most_occur[z] for z in compressed[:,n_factors].argsort()[-15:][::-1]])\n",
    "     print('----\\n')"
   ]
  }
 ],
 "metadata": {
  "kernelspec": {
   "display_name": "Python 3",
   "language": "python",
   "name": "python3"
  },
  "language_info": {
   "codemirror_mode": {
    "name": "ipython",
    "version": 3
   },
   "file_extension": ".py",
   "mimetype": "text/x-python",
   "name": "python",
   "nbconvert_exporter": "python",
   "pygments_lexer": "ipython3",
   "version": "3.7.3"
  }
 },
 "nbformat": 4,
 "nbformat_minor": 4
}
